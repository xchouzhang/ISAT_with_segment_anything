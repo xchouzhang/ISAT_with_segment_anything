{
 "cells": [
  {
   "cell_type": "code",
   "execution_count": 2,
   "metadata": {},
   "outputs": [],
   "source": [
    "from PIL import Image\n",
    "import cv2\n",
    "import numpy as np\n",
    "import os "
   ]
  },
  {
   "cell_type": "code",
   "execution_count": null,
   "metadata": {},
   "outputs": [],
   "source": [
    "img_path = r\"./labels_png\"\n",
    "labels_binary = r\"./label_png_binary\"\n",
    "os.makedirs(labels_binary, exist_ok=True)\n",
    "\n",
    "for each_img in os.listdir(img_path):\n",
    "    img = cv2.imread(os.path.join(img_path, each_img), cv2.IMREAD_GRAYSCALE)\n",
    "    img [img > 0] = 1\n",
    "    print(np.unique(img))\n",
    "    cv2.imwrite(os.path.join(labels_binary, each_img),img.astype(np.uint8))"
   ]
  },
  {
   "cell_type": "code",
   "execution_count": 3,
   "metadata": {},
   "outputs": [],
   "source": [
    "### 生成valseg_80_list.txt  用于分割实验的验证\n",
    "\n",
    "# 定义图片文件夹路径\n",
    "images_folder = './images'\n",
    "labels_folder = './label_png_binary'\n",
    "\n",
    "# 获取 images,labels 文件夹中的所有图片文件名\n",
    "image_files = os.listdir(images_folder)\n",
    "label_files = os.listdir(labels_folder)\n",
    "\n",
    "# 确保两个文件夹中的图片数量和文件名一致\n",
    "if len(image_files) != len(label_files):\n",
    "    raise ValueError(\"The number of images in 'images' folder does not match the number of images in 'labels' folder.\")\n",
    "\n",
    "\n",
    "images_new_folder = '/data/wsssData/googlecls/level_16/valseg/images'\n",
    "labels_new_folder = '/data/wsssData/googlecls/level_16/valseg/labels'\n",
    "\n",
    "\n",
    "\n",
    "txt_file = 'valseg_80_list.txt'\n",
    "\n",
    "with open(txt_file, 'w') as f:\n",
    "    #\n",
    "    for image_file in image_files:\n",
    "\n",
    "        # 构建图片路径和标签路径\n",
    "        image_path = os.path.join(images_new_folder, image_file).replace('\\\\', '/')\n",
    "        label_path = os.path.join(labels_new_folder, image_file).replace('\\\\', '/')\n",
    "        \n",
    "        # 写入路径对到 txt 文件中，格式为 \"image_path,label_path\"\n",
    "        # f.write(f\"{image_path},{label_path},0\\n\")\n",
    "        \n",
    "        f.write(f\"{image_path},{label_path}\\n\")\n"
   ]
  }
 ],
 "metadata": {
  "kernelspec": {
   "display_name": "torch2.1",
   "language": "python",
   "name": "python3"
  },
  "language_info": {
   "codemirror_mode": {
    "name": "ipython",
    "version": 3
   },
   "file_extension": ".py",
   "mimetype": "text/x-python",
   "name": "python",
   "nbconvert_exporter": "python",
   "pygments_lexer": "ipython3",
   "version": "3.10.14"
  }
 },
 "nbformat": 4,
 "nbformat_minor": 2
}
