{
 "cells": [
  {
   "cell_type": "code",
   "execution_count": 1,
   "metadata": {},
   "outputs": [],
   "source": [
    "from PIL import Image\n",
    "import cv2\n",
    "import numpy as np\n",
    "import os "
   ]
  },
  {
   "cell_type": "code",
   "execution_count": null,
   "metadata": {},
   "outputs": [],
   "source": [
    "img_path = r\"./labels_png\"\n",
    "labels_binary = r\"./label_png_binary\"\n",
    "os.makedirs(labels_binary, exist_ok=True)\n",
    "\n",
    "for each_img in os.listdir(img_path):\n",
    "    img = cv2.imread(os.path.join(img_path, each_img), cv2.IMREAD_GRAYSCALE)\n",
    "    img [img > 0] = 1\n",
    "    print(np.unique(img))\n",
    "    cv2.imwrite(os.path.join(labels_binary, each_img),img.astype(np.uint8))"
   ]
  }
 ],
 "metadata": {
  "kernelspec": {
   "display_name": "torch2.1",
   "language": "python",
   "name": "python3"
  },
  "language_info": {
   "codemirror_mode": {
    "name": "ipython",
    "version": 3
   },
   "file_extension": ".py",
   "mimetype": "text/x-python",
   "name": "python",
   "nbconvert_exporter": "python",
   "pygments_lexer": "ipython3",
   "version": "3.10.14"
  }
 },
 "nbformat": 4,
 "nbformat_minor": 2
}
